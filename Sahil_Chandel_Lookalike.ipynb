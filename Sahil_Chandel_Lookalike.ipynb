{
 "cells": [
  {
   "cell_type": "markdown",
   "id": "47e6a808-2f55-46e1-978e-b454673d35de",
   "metadata": {},
   "source": [
    "# Build the Lookalike Model"
   ]
  },
  {
   "cell_type": "code",
   "execution_count": 11,
   "id": "1d6a3a66-f4cf-466e-8a36-12d6df52fac0",
   "metadata": {},
   "outputs": [],
   "source": [
    "import pandas as pd\n",
    "import numpy as np\n",
    "from sklearn.metrics.pairwise import cosine_similarity\n",
    "from sklearn.preprocessing import StandardScaler"
   ]
  },
  {
   "cell_type": "markdown",
   "id": "846d78a2-d91f-46a9-9768-d836bfee402f",
   "metadata": {},
   "source": [
    "## 1. Data Preparation:\n",
    "- Aggregate Transaction Data to derive new features\n",
    "- Merge this data products dataset also"
   ]
  },
  {
   "cell_type": "code",
   "execution_count": 12,
   "id": "96a1c13b-e8b3-40af-9abe-8c019c486ec4",
   "metadata": {},
   "outputs": [],
   "source": [
    "#loading the data\n",
    "customers = pd.read_csv('Customers.csv')\n",
    "products = pd.read_csv('Products.csv')\n",
    "transactions = pd.read_csv('Transactions.csv')"
   ]
  },
  {
   "cell_type": "code",
   "execution_count": 13,
   "id": "f8f085ff-9469-4bc1-ac97-b9da6b49efb0",
   "metadata": {},
   "outputs": [],
   "source": [
    "final_data = transactions.merge(customers , on=\"CustomerID\").merge(products , on='ProductID')"
   ]
  },
  {
   "cell_type": "code",
   "execution_count": 14,
   "id": "f71f06de-01ba-4201-991a-1bc0f01379be",
   "metadata": {},
   "outputs": [
    {
     "data": {
      "text/html": [
       "<div>\n",
       "<style scoped>\n",
       "    .dataframe tbody tr th:only-of-type {\n",
       "        vertical-align: middle;\n",
       "    }\n",
       "\n",
       "    .dataframe tbody tr th {\n",
       "        vertical-align: top;\n",
       "    }\n",
       "\n",
       "    .dataframe thead th {\n",
       "        text-align: right;\n",
       "    }\n",
       "</style>\n",
       "<table border=\"1\" class=\"dataframe\">\n",
       "  <thead>\n",
       "    <tr style=\"text-align: right;\">\n",
       "      <th></th>\n",
       "      <th>TransactionID</th>\n",
       "      <th>CustomerID</th>\n",
       "      <th>ProductID</th>\n",
       "      <th>TransactionDate</th>\n",
       "      <th>Quantity</th>\n",
       "      <th>TotalValue</th>\n",
       "      <th>Price_x</th>\n",
       "      <th>CustomerName</th>\n",
       "      <th>Region</th>\n",
       "      <th>SignupDate</th>\n",
       "      <th>ProductName</th>\n",
       "      <th>Category</th>\n",
       "      <th>Price_y</th>\n",
       "    </tr>\n",
       "  </thead>\n",
       "  <tbody>\n",
       "    <tr>\n",
       "      <th>0</th>\n",
       "      <td>T00001</td>\n",
       "      <td>C0199</td>\n",
       "      <td>P067</td>\n",
       "      <td>2024-08-25 12:38:23</td>\n",
       "      <td>1</td>\n",
       "      <td>300.68</td>\n",
       "      <td>300.68</td>\n",
       "      <td>Andrea Jenkins</td>\n",
       "      <td>Europe</td>\n",
       "      <td>2022-12-03</td>\n",
       "      <td>ComfortLiving Bluetooth Speaker</td>\n",
       "      <td>Electronics</td>\n",
       "      <td>300.68</td>\n",
       "    </tr>\n",
       "    <tr>\n",
       "      <th>1</th>\n",
       "      <td>T00112</td>\n",
       "      <td>C0146</td>\n",
       "      <td>P067</td>\n",
       "      <td>2024-05-27 22:23:54</td>\n",
       "      <td>1</td>\n",
       "      <td>300.68</td>\n",
       "      <td>300.68</td>\n",
       "      <td>Brittany Harvey</td>\n",
       "      <td>Asia</td>\n",
       "      <td>2024-09-04</td>\n",
       "      <td>ComfortLiving Bluetooth Speaker</td>\n",
       "      <td>Electronics</td>\n",
       "      <td>300.68</td>\n",
       "    </tr>\n",
       "    <tr>\n",
       "      <th>2</th>\n",
       "      <td>T00166</td>\n",
       "      <td>C0127</td>\n",
       "      <td>P067</td>\n",
       "      <td>2024-04-25 07:38:55</td>\n",
       "      <td>1</td>\n",
       "      <td>300.68</td>\n",
       "      <td>300.68</td>\n",
       "      <td>Kathryn Stevens</td>\n",
       "      <td>Europe</td>\n",
       "      <td>2024-04-04</td>\n",
       "      <td>ComfortLiving Bluetooth Speaker</td>\n",
       "      <td>Electronics</td>\n",
       "      <td>300.68</td>\n",
       "    </tr>\n",
       "    <tr>\n",
       "      <th>3</th>\n",
       "      <td>T00272</td>\n",
       "      <td>C0087</td>\n",
       "      <td>P067</td>\n",
       "      <td>2024-03-26 22:55:37</td>\n",
       "      <td>2</td>\n",
       "      <td>601.36</td>\n",
       "      <td>300.68</td>\n",
       "      <td>Travis Campbell</td>\n",
       "      <td>South America</td>\n",
       "      <td>2024-04-11</td>\n",
       "      <td>ComfortLiving Bluetooth Speaker</td>\n",
       "      <td>Electronics</td>\n",
       "      <td>300.68</td>\n",
       "    </tr>\n",
       "    <tr>\n",
       "      <th>4</th>\n",
       "      <td>T00363</td>\n",
       "      <td>C0070</td>\n",
       "      <td>P067</td>\n",
       "      <td>2024-03-21 15:10:10</td>\n",
       "      <td>3</td>\n",
       "      <td>902.04</td>\n",
       "      <td>300.68</td>\n",
       "      <td>Timothy Perez</td>\n",
       "      <td>Europe</td>\n",
       "      <td>2022-03-15</td>\n",
       "      <td>ComfortLiving Bluetooth Speaker</td>\n",
       "      <td>Electronics</td>\n",
       "      <td>300.68</td>\n",
       "    </tr>\n",
       "  </tbody>\n",
       "</table>\n",
       "</div>"
      ],
      "text/plain": [
       "  TransactionID CustomerID ProductID      TransactionDate  Quantity  \\\n",
       "0        T00001      C0199      P067  2024-08-25 12:38:23         1   \n",
       "1        T00112      C0146      P067  2024-05-27 22:23:54         1   \n",
       "2        T00166      C0127      P067  2024-04-25 07:38:55         1   \n",
       "3        T00272      C0087      P067  2024-03-26 22:55:37         2   \n",
       "4        T00363      C0070      P067  2024-03-21 15:10:10         3   \n",
       "\n",
       "   TotalValue  Price_x     CustomerName         Region  SignupDate  \\\n",
       "0      300.68   300.68   Andrea Jenkins         Europe  2022-12-03   \n",
       "1      300.68   300.68  Brittany Harvey           Asia  2024-09-04   \n",
       "2      300.68   300.68  Kathryn Stevens         Europe  2024-04-04   \n",
       "3      601.36   300.68  Travis Campbell  South America  2024-04-11   \n",
       "4      902.04   300.68    Timothy Perez         Europe  2022-03-15   \n",
       "\n",
       "                       ProductName     Category  Price_y  \n",
       "0  ComfortLiving Bluetooth Speaker  Electronics   300.68  \n",
       "1  ComfortLiving Bluetooth Speaker  Electronics   300.68  \n",
       "2  ComfortLiving Bluetooth Speaker  Electronics   300.68  \n",
       "3  ComfortLiving Bluetooth Speaker  Electronics   300.68  \n",
       "4  ComfortLiving Bluetooth Speaker  Electronics   300.68  "
      ]
     },
     "execution_count": 14,
     "metadata": {},
     "output_type": "execute_result"
    }
   ],
   "source": [
    "final_data.head()"
   ]
  },
  {
   "cell_type": "markdown",
   "id": "c09bf633-741f-459e-b5f2-39eaf128e9b6",
   "metadata": {},
   "source": [
    "<h3 style=\"color:green; font-weight:bolder; text-align:center;\">Extracting the required features like total spent value ,unique products bought , average product price , numbers of transactions</h3>"
   ]
  },
  {
   "cell_type": "code",
   "execution_count": 15,
   "id": "43dae915-552e-48bd-9ae1-521f4e882047",
   "metadata": {},
   "outputs": [],
   "source": [
    "customer_features = final_data.groupby('CustomerID').agg(\n",
    "    total_spend=(\"TotalValue\" ,'sum'),\n",
    "    unique_products = (\"ProductID\" , \"nunique\"),\n",
    "    avg_product_price = (\"Price_x\" , \"mean\"),\n",
    "    transaction_count = (\"TransactionID\" ,'count')\n",
    ").reset_index()"
   ]
  },
  {
   "cell_type": "code",
   "execution_count": 16,
   "id": "a07850a1-aeac-4bbe-9edf-43c307e339c1",
   "metadata": {},
   "outputs": [
    {
     "data": {
      "text/html": [
       "<div>\n",
       "<style scoped>\n",
       "    .dataframe tbody tr th:only-of-type {\n",
       "        vertical-align: middle;\n",
       "    }\n",
       "\n",
       "    .dataframe tbody tr th {\n",
       "        vertical-align: top;\n",
       "    }\n",
       "\n",
       "    .dataframe thead th {\n",
       "        text-align: right;\n",
       "    }\n",
       "</style>\n",
       "<table border=\"1\" class=\"dataframe\">\n",
       "  <thead>\n",
       "    <tr style=\"text-align: right;\">\n",
       "      <th></th>\n",
       "      <th>CustomerID</th>\n",
       "      <th>total_spend</th>\n",
       "      <th>unique_products</th>\n",
       "      <th>avg_product_price</th>\n",
       "      <th>transaction_count</th>\n",
       "    </tr>\n",
       "  </thead>\n",
       "  <tbody>\n",
       "    <tr>\n",
       "      <th>0</th>\n",
       "      <td>C0001</td>\n",
       "      <td>3354.52</td>\n",
       "      <td>5</td>\n",
       "      <td>278.334000</td>\n",
       "      <td>5</td>\n",
       "    </tr>\n",
       "    <tr>\n",
       "      <th>1</th>\n",
       "      <td>C0002</td>\n",
       "      <td>1862.74</td>\n",
       "      <td>4</td>\n",
       "      <td>208.920000</td>\n",
       "      <td>4</td>\n",
       "    </tr>\n",
       "    <tr>\n",
       "      <th>2</th>\n",
       "      <td>C0003</td>\n",
       "      <td>2725.38</td>\n",
       "      <td>4</td>\n",
       "      <td>195.707500</td>\n",
       "      <td>4</td>\n",
       "    </tr>\n",
       "    <tr>\n",
       "      <th>3</th>\n",
       "      <td>C0004</td>\n",
       "      <td>5354.88</td>\n",
       "      <td>8</td>\n",
       "      <td>240.636250</td>\n",
       "      <td>8</td>\n",
       "    </tr>\n",
       "    <tr>\n",
       "      <th>4</th>\n",
       "      <td>C0005</td>\n",
       "      <td>2034.24</td>\n",
       "      <td>3</td>\n",
       "      <td>291.603333</td>\n",
       "      <td>3</td>\n",
       "    </tr>\n",
       "  </tbody>\n",
       "</table>\n",
       "</div>"
      ],
      "text/plain": [
       "  CustomerID  total_spend  unique_products  avg_product_price  \\\n",
       "0      C0001      3354.52                5         278.334000   \n",
       "1      C0002      1862.74                4         208.920000   \n",
       "2      C0003      2725.38                4         195.707500   \n",
       "3      C0004      5354.88                8         240.636250   \n",
       "4      C0005      2034.24                3         291.603333   \n",
       "\n",
       "   transaction_count  \n",
       "0                  5  \n",
       "1                  4  \n",
       "2                  4  \n",
       "3                  8  \n",
       "4                  3  "
      ]
     },
     "execution_count": 16,
     "metadata": {},
     "output_type": "execute_result"
    }
   ],
   "source": [
    "customer_features.head()"
   ]
  },
  {
   "cell_type": "markdown",
   "id": "38e3649e-65fd-45c8-a280-f9f8e96c899b",
   "metadata": {},
   "source": [
    "<h3 style=\"color:green; font-weight:bolder; text-align:center;\">Merging Region with customer features to get the similarity between customers from a specific region</h1>"
   ]
  },
  {
   "cell_type": "code",
   "execution_count": 17,
   "id": "a719f2b1-adfa-45d6-8bc7-d55b76602ac1",
   "metadata": {},
   "outputs": [],
   "source": [
    "customer_features= customer_features.merge(customers[[\"CustomerID\" , \"Region\"]] , on=\"CustomerID\")"
   ]
  },
  {
   "cell_type": "code",
   "execution_count": 18,
   "id": "3ef9775b-6532-4695-9f2a-aabf3fc99bcf",
   "metadata": {
    "scrolled": true
   },
   "outputs": [
    {
     "data": {
      "text/html": [
       "<div>\n",
       "<style scoped>\n",
       "    .dataframe tbody tr th:only-of-type {\n",
       "        vertical-align: middle;\n",
       "    }\n",
       "\n",
       "    .dataframe tbody tr th {\n",
       "        vertical-align: top;\n",
       "    }\n",
       "\n",
       "    .dataframe thead th {\n",
       "        text-align: right;\n",
       "    }\n",
       "</style>\n",
       "<table border=\"1\" class=\"dataframe\">\n",
       "  <thead>\n",
       "    <tr style=\"text-align: right;\">\n",
       "      <th></th>\n",
       "      <th>CustomerID</th>\n",
       "      <th>total_spend</th>\n",
       "      <th>unique_products</th>\n",
       "      <th>avg_product_price</th>\n",
       "      <th>transaction_count</th>\n",
       "      <th>Region</th>\n",
       "    </tr>\n",
       "  </thead>\n",
       "  <tbody>\n",
       "    <tr>\n",
       "      <th>0</th>\n",
       "      <td>C0001</td>\n",
       "      <td>3354.52</td>\n",
       "      <td>5</td>\n",
       "      <td>278.334000</td>\n",
       "      <td>5</td>\n",
       "      <td>South America</td>\n",
       "    </tr>\n",
       "    <tr>\n",
       "      <th>1</th>\n",
       "      <td>C0002</td>\n",
       "      <td>1862.74</td>\n",
       "      <td>4</td>\n",
       "      <td>208.920000</td>\n",
       "      <td>4</td>\n",
       "      <td>Asia</td>\n",
       "    </tr>\n",
       "    <tr>\n",
       "      <th>2</th>\n",
       "      <td>C0003</td>\n",
       "      <td>2725.38</td>\n",
       "      <td>4</td>\n",
       "      <td>195.707500</td>\n",
       "      <td>4</td>\n",
       "      <td>South America</td>\n",
       "    </tr>\n",
       "    <tr>\n",
       "      <th>3</th>\n",
       "      <td>C0004</td>\n",
       "      <td>5354.88</td>\n",
       "      <td>8</td>\n",
       "      <td>240.636250</td>\n",
       "      <td>8</td>\n",
       "      <td>South America</td>\n",
       "    </tr>\n",
       "    <tr>\n",
       "      <th>4</th>\n",
       "      <td>C0005</td>\n",
       "      <td>2034.24</td>\n",
       "      <td>3</td>\n",
       "      <td>291.603333</td>\n",
       "      <td>3</td>\n",
       "      <td>Asia</td>\n",
       "    </tr>\n",
       "  </tbody>\n",
       "</table>\n",
       "</div>"
      ],
      "text/plain": [
       "  CustomerID  total_spend  unique_products  avg_product_price  \\\n",
       "0      C0001      3354.52                5         278.334000   \n",
       "1      C0002      1862.74                4         208.920000   \n",
       "2      C0003      2725.38                4         195.707500   \n",
       "3      C0004      5354.88                8         240.636250   \n",
       "4      C0005      2034.24                3         291.603333   \n",
       "\n",
       "   transaction_count         Region  \n",
       "0                  5  South America  \n",
       "1                  4           Asia  \n",
       "2                  4  South America  \n",
       "3                  8  South America  \n",
       "4                  3           Asia  "
      ]
     },
     "execution_count": 18,
     "metadata": {},
     "output_type": "execute_result"
    }
   ],
   "source": [
    "customer_features.head()"
   ]
  },
  {
   "cell_type": "markdown",
   "id": "29d970bf-566e-4063-9052-2e312954e1bf",
   "metadata": {},
   "source": [
    "<h3 style=\"color:green; font-weight:bolder; text-align:center;\">Data Scaling</h3>"
   ]
  },
  {
   "cell_type": "code",
   "execution_count": 19,
   "id": "2b40b734-8851-4b54-994e-c029043ada65",
   "metadata": {},
   "outputs": [],
   "source": [
    "customer_features = pd.get_dummies(customer_features , columns=['Region'] , drop_first=True)"
   ]
  },
  {
   "cell_type": "code",
   "execution_count": 20,
   "id": "de18cdad-ecea-4560-a7f0-9cea803bcaa2",
   "metadata": {},
   "outputs": [],
   "source": [
    "scaler = StandardScaler()\n",
    "numerical_cols = [\"total_spend\" , \"unique_products\" , \"avg_product_price\" , \"transaction_count\"]\n",
    "customer_features[numerical_cols] = scaler.fit_transform(customer_features[numerical_cols])"
   ]
  },
  {
   "cell_type": "markdown",
   "id": "4f4c4121-be3a-4d1e-aaef-f1b0811c47a1",
   "metadata": {},
   "source": [
    "<h3 style=\"color:green; font-weight:bolder; text-align:center;\"> Computing Similarities </h3>"
   ]
  },
  {
   "cell_type": "code",
   "execution_count": 21,
   "id": "74631abf-d9a8-4392-8ac9-9c242a61ac77",
   "metadata": {},
   "outputs": [],
   "source": [
    "similarity_matrix =cosine_similarity(customer_features.drop('CustomerID' , axis=1))\n",
    "similarity_df = pd.DataFrame(similarity_matrix , index=customer_features['CustomerID'] , columns=customer_features[\"CustomerID\"])"
   ]
  },
  {
   "cell_type": "markdown",
   "id": "49f9eee5-d12c-4835-8654-03fa7d2b8252",
   "metadata": {},
   "source": [
    "### Function to get top 3 similar customers"
   ]
  },
  {
   "cell_type": "code",
   "execution_count": 22,
   "id": "30167d65-bbb3-4432-b901-d28630f62f69",
   "metadata": {},
   "outputs": [],
   "source": [
    "def get_top_similar_three(customers ,similarity_data):\n",
    "    lookalikes = {}\n",
    "    for customer_id in customers:\n",
    "        similar_customers = similarity_df[customer_id].sort_values(ascending=False)[1:4]\n",
    "        lookalikes[customer_id] = list(zip(similar_customers.index , similar_customers.values))\n",
    "    return lookalikes\n"
   ]
  },
  {
   "cell_type": "markdown",
   "id": "08e9ce8a-91ef-4b61-96b5-55ce7d68ea72",
   "metadata": {},
   "source": [
    "### Getting IDS of first 20 customers and using the function for finding similar ones"
   ]
  },
  {
   "cell_type": "code",
   "execution_count": 23,
   "id": "8fbf5bb1-4470-4c06-9632-0c816a72a498",
   "metadata": {},
   "outputs": [],
   "source": [
    "customer_ids = customer_features['CustomerID'].head(20)"
   ]
  },
  {
   "cell_type": "code",
   "execution_count": 28,
   "id": "96340c90-0e5a-4064-9e79-e9e31ef3685b",
   "metadata": {},
   "outputs": [],
   "source": [
    "lookalikes = get_top_similar_three(customer_ids , similarity_df)"
   ]
  },
  {
   "cell_type": "code",
   "execution_count": 29,
   "id": "2710cb1b-a137-4074-a3b2-805da37d74c3",
   "metadata": {},
   "outputs": [],
   "source": [
    "lookalikes_df = pd.DataFrame({\"cust_id\" : lookalikes.keys() , \"lookalikes\" : lookalikes.values()})"
   ]
  },
  {
   "cell_type": "code",
   "execution_count": 30,
   "id": "f56754a3-c31a-49ff-8a99-9dd02e70f699",
   "metadata": {},
   "outputs": [
    {
     "data": {
      "text/html": [
       "<div>\n",
       "<style scoped>\n",
       "    .dataframe tbody tr th:only-of-type {\n",
       "        vertical-align: middle;\n",
       "    }\n",
       "\n",
       "    .dataframe tbody tr th {\n",
       "        vertical-align: top;\n",
       "    }\n",
       "\n",
       "    .dataframe thead th {\n",
       "        text-align: right;\n",
       "    }\n",
       "</style>\n",
       "<table border=\"1\" class=\"dataframe\">\n",
       "  <thead>\n",
       "    <tr style=\"text-align: right;\">\n",
       "      <th></th>\n",
       "      <th>cust_id</th>\n",
       "      <th>lookalikes</th>\n",
       "    </tr>\n",
       "  </thead>\n",
       "  <tbody>\n",
       "    <tr>\n",
       "      <th>0</th>\n",
       "      <td>C0001</td>\n",
       "      <td>[(C0137, 0.9896858063304705), (C0152, 0.986758...</td>\n",
       "    </tr>\n",
       "    <tr>\n",
       "      <th>1</th>\n",
       "      <td>C0002</td>\n",
       "      <td>[(C0043, 0.9846244763893289), (C0142, 0.977531...</td>\n",
       "    </tr>\n",
       "    <tr>\n",
       "      <th>2</th>\n",
       "      <td>C0003</td>\n",
       "      <td>[(C0025, 0.9568228412937883), (C0071, 0.935543...</td>\n",
       "    </tr>\n",
       "    <tr>\n",
       "      <th>3</th>\n",
       "      <td>C0004</td>\n",
       "      <td>[(C0108, 0.9840450015081225), (C0113, 0.971927...</td>\n",
       "    </tr>\n",
       "    <tr>\n",
       "      <th>4</th>\n",
       "      <td>C0005</td>\n",
       "      <td>[(C0128, 0.9948531908772384), (C0123, 0.992854...</td>\n",
       "    </tr>\n",
       "  </tbody>\n",
       "</table>\n",
       "</div>"
      ],
      "text/plain": [
       "  cust_id                                         lookalikes\n",
       "0   C0001  [(C0137, 0.9896858063304705), (C0152, 0.986758...\n",
       "1   C0002  [(C0043, 0.9846244763893289), (C0142, 0.977531...\n",
       "2   C0003  [(C0025, 0.9568228412937883), (C0071, 0.935543...\n",
       "3   C0004  [(C0108, 0.9840450015081225), (C0113, 0.971927...\n",
       "4   C0005  [(C0128, 0.9948531908772384), (C0123, 0.992854..."
      ]
     },
     "execution_count": 30,
     "metadata": {},
     "output_type": "execute_result"
    }
   ],
   "source": [
    "lookalikes_df.head()"
   ]
  }
 ],
 "metadata": {
  "kernelspec": {
   "display_name": "Python 3 (ipykernel)",
   "language": "python",
   "name": "python3"
  },
  "language_info": {
   "codemirror_mode": {
    "name": "ipython",
    "version": 3
   },
   "file_extension": ".py",
   "mimetype": "text/x-python",
   "name": "python",
   "nbconvert_exporter": "python",
   "pygments_lexer": "ipython3",
   "version": "3.10.12"
  }
 },
 "nbformat": 4,
 "nbformat_minor": 5
}
