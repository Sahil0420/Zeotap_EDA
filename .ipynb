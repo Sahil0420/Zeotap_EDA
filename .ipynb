{
 "cells": [
  {
   "cell_type": "markdown",
   "id": "a483a0ac-341c-418e-afd9-5790919ed23f",
   "metadata": {},
   "source": [
    "<h1 style=\"color:white;background:black;text-align:center;padding:1rem 0\">Customer Segmentation / Clustering </h1>"
   ]
  },
  {
   "cell_type": "code",
   "execution_count": 18,
   "id": "00a82cc8-c6cf-463e-9260-6b1e6a4f76a9",
   "metadata": {},
   "outputs": [],
   "source": [
    "import pandas as pd\n",
    "import numpy as np\n",
    "from sklearn.preprocessing import StandardScaler , OneHotEncoder\n",
    "from sklearn.cluster import KMeans\n",
    "from sklearn.metrics import davies_bouldin_score\n",
    "from sklearn.decomposition import PCA\n",
    "import matplotlib.pyplot as plt\n",
    "import seaborn as sns"
   ]
  },
  {
   "cell_type": "code",
   "execution_count": 2,
   "id": "2747921a-e785-4621-9907-d92e7292c433",
   "metadata": {},
   "outputs": [],
   "source": [
    "customers = pd.read_csv('Customers.csv')\n",
    "transactions = pd.read_csv(\"Transactions.csv\")"
   ]
  },
  {
   "cell_type": "markdown",
   "id": "ba123629",
   "metadata": {},
   "source": [
    "<h2 style=\"color:white;background:black;text-align:center;padding:1rem 0\"> Aggregate the data </h2>"
   ]
  },
  {
   "cell_type": "code",
   "execution_count": 3,
   "id": "b037f59b-ae24-42fe-b14d-6e3238bc2d58",
   "metadata": {},
   "outputs": [],
   "source": [
    "customer_transaction = transactions.groupby('CustomerID').agg(\n",
    "    total_transactions = (\"TransactionID\" , 'count'),\n",
    "    total_quantity = ('Quantity' , 'sum'),\n",
    "    total_revenue= ('TotalValue' , 'sum'),\n",
    "    avg_transaction_value = (\"TotalValue\" , 'mean'),\n",
    "    product_variance = (\"ProductID\" , 'nunique')\n",
    ").reset_index()"
   ]
  },
  {
   "cell_type": "markdown",
   "id": "2577a676",
   "metadata": {},
   "source": [
    "<h2 style=\"color:white;background:black;text-align:center;padding:1rem 0\">Merge Aggregated Data With Customer Data</h2>"
   ]
  },
  {
   "cell_type": "code",
   "execution_count": 4,
   "id": "f915cb0b-b4b3-42d5-a0d3-d9742a77be0d",
   "metadata": {},
   "outputs": [],
   "source": [
    "data = pd.merge(customers , customer_transaction , on=\"CustomerID\" , how='inner' )"
   ]
  },
  {
   "cell_type": "code",
   "execution_count": 5,
   "id": "bc3befe9-b26d-4745-bedf-ff20897722a4",
   "metadata": {},
   "outputs": [
    {
     "data": {
      "text/html": [
       "<div>\n",
       "<style scoped>\n",
       "    .dataframe tbody tr th:only-of-type {\n",
       "        vertical-align: middle;\n",
       "    }\n",
       "\n",
       "    .dataframe tbody tr th {\n",
       "        vertical-align: top;\n",
       "    }\n",
       "\n",
       "    .dataframe thead th {\n",
       "        text-align: right;\n",
       "    }\n",
       "</style>\n",
       "<table border=\"1\" class=\"dataframe\">\n",
       "  <thead>\n",
       "    <tr style=\"text-align: right;\">\n",
       "      <th></th>\n",
       "      <th>CustomerID</th>\n",
       "      <th>CustomerName</th>\n",
       "      <th>Region</th>\n",
       "      <th>SignupDate</th>\n",
       "      <th>total_transactions</th>\n",
       "      <th>total_quantity</th>\n",
       "      <th>total_revenue</th>\n",
       "      <th>avg_transaction_value</th>\n",
       "      <th>product_variance</th>\n",
       "    </tr>\n",
       "  </thead>\n",
       "  <tbody>\n",
       "    <tr>\n",
       "      <th>0</th>\n",
       "      <td>C0001</td>\n",
       "      <td>Lawrence Carroll</td>\n",
       "      <td>South America</td>\n",
       "      <td>2022-07-10</td>\n",
       "      <td>5</td>\n",
       "      <td>12</td>\n",
       "      <td>3354.52</td>\n",
       "      <td>670.904</td>\n",
       "      <td>5</td>\n",
       "    </tr>\n",
       "    <tr>\n",
       "      <th>1</th>\n",
       "      <td>C0002</td>\n",
       "      <td>Elizabeth Lutz</td>\n",
       "      <td>Asia</td>\n",
       "      <td>2022-02-13</td>\n",
       "      <td>4</td>\n",
       "      <td>10</td>\n",
       "      <td>1862.74</td>\n",
       "      <td>465.685</td>\n",
       "      <td>4</td>\n",
       "    </tr>\n",
       "    <tr>\n",
       "      <th>2</th>\n",
       "      <td>C0003</td>\n",
       "      <td>Michael Rivera</td>\n",
       "      <td>South America</td>\n",
       "      <td>2024-03-07</td>\n",
       "      <td>4</td>\n",
       "      <td>14</td>\n",
       "      <td>2725.38</td>\n",
       "      <td>681.345</td>\n",
       "      <td>4</td>\n",
       "    </tr>\n",
       "    <tr>\n",
       "      <th>3</th>\n",
       "      <td>C0004</td>\n",
       "      <td>Kathleen Rodriguez</td>\n",
       "      <td>South America</td>\n",
       "      <td>2022-10-09</td>\n",
       "      <td>8</td>\n",
       "      <td>23</td>\n",
       "      <td>5354.88</td>\n",
       "      <td>669.360</td>\n",
       "      <td>8</td>\n",
       "    </tr>\n",
       "    <tr>\n",
       "      <th>4</th>\n",
       "      <td>C0005</td>\n",
       "      <td>Laura Weber</td>\n",
       "      <td>Asia</td>\n",
       "      <td>2022-08-15</td>\n",
       "      <td>3</td>\n",
       "      <td>7</td>\n",
       "      <td>2034.24</td>\n",
       "      <td>678.080</td>\n",
       "      <td>3</td>\n",
       "    </tr>\n",
       "  </tbody>\n",
       "</table>\n",
       "</div>"
      ],
      "text/plain": [
       "  CustomerID        CustomerName         Region  SignupDate  \\\n",
       "0      C0001    Lawrence Carroll  South America  2022-07-10   \n",
       "1      C0002      Elizabeth Lutz           Asia  2022-02-13   \n",
       "2      C0003      Michael Rivera  South America  2024-03-07   \n",
       "3      C0004  Kathleen Rodriguez  South America  2022-10-09   \n",
       "4      C0005         Laura Weber           Asia  2022-08-15   \n",
       "\n",
       "   total_transactions  total_quantity  total_revenue  avg_transaction_value  \\\n",
       "0                   5              12        3354.52                670.904   \n",
       "1                   4              10        1862.74                465.685   \n",
       "2                   4              14        2725.38                681.345   \n",
       "3                   8              23        5354.88                669.360   \n",
       "4                   3               7        2034.24                678.080   \n",
       "\n",
       "   product_variance  \n",
       "0                 5  \n",
       "1                 4  \n",
       "2                 4  \n",
       "3                 8  \n",
       "4                 3  "
      ]
     },
     "execution_count": 5,
     "metadata": {},
     "output_type": "execute_result"
    }
   ],
   "source": [
    "data.head()"
   ]
  },
  {
   "cell_type": "markdown",
   "id": "3a1119e6",
   "metadata": {},
   "source": [
    "<h2 style=\"color:white;background:black;text-align:center;padding:1rem 0\">Feature Engineering</h2>\n",
    "<h2>Encode Categorical Data (one hot encoding)</h2>"
   ]
  },
  {
   "cell_type": "code",
   "execution_count": 6,
   "id": "33378e7a-c522-4614-b998-b9b4121cbabd",
   "metadata": {},
   "outputs": [],
   "source": [
    "encoder = OneHotEncoder()\n",
    "encoded_region = encoder.fit_transform(data[['Region']]).toarray()\n",
    "encoded_region_df = pd.DataFrame(encoded_region , columns=encoder.get_feature_names_out(['Region']))"
   ]
  },
  {
   "cell_type": "code",
   "execution_count": 7,
   "id": "a1e554d3-cae5-4d84-9570-0dff3b46d683",
   "metadata": {},
   "outputs": [
    {
     "data": {
      "text/html": [
       "<div>\n",
       "<style scoped>\n",
       "    .dataframe tbody tr th:only-of-type {\n",
       "        vertical-align: middle;\n",
       "    }\n",
       "\n",
       "    .dataframe tbody tr th {\n",
       "        vertical-align: top;\n",
       "    }\n",
       "\n",
       "    .dataframe thead th {\n",
       "        text-align: right;\n",
       "    }\n",
       "</style>\n",
       "<table border=\"1\" class=\"dataframe\">\n",
       "  <thead>\n",
       "    <tr style=\"text-align: right;\">\n",
       "      <th></th>\n",
       "      <th>Region_Asia</th>\n",
       "      <th>Region_Europe</th>\n",
       "      <th>Region_North America</th>\n",
       "      <th>Region_South America</th>\n",
       "    </tr>\n",
       "  </thead>\n",
       "  <tbody>\n",
       "    <tr>\n",
       "      <th>0</th>\n",
       "      <td>0.0</td>\n",
       "      <td>0.0</td>\n",
       "      <td>0.0</td>\n",
       "      <td>1.0</td>\n",
       "    </tr>\n",
       "    <tr>\n",
       "      <th>1</th>\n",
       "      <td>1.0</td>\n",
       "      <td>0.0</td>\n",
       "      <td>0.0</td>\n",
       "      <td>0.0</td>\n",
       "    </tr>\n",
       "    <tr>\n",
       "      <th>2</th>\n",
       "      <td>0.0</td>\n",
       "      <td>0.0</td>\n",
       "      <td>0.0</td>\n",
       "      <td>1.0</td>\n",
       "    </tr>\n",
       "    <tr>\n",
       "      <th>3</th>\n",
       "      <td>0.0</td>\n",
       "      <td>0.0</td>\n",
       "      <td>0.0</td>\n",
       "      <td>1.0</td>\n",
       "    </tr>\n",
       "    <tr>\n",
       "      <th>4</th>\n",
       "      <td>1.0</td>\n",
       "      <td>0.0</td>\n",
       "      <td>0.0</td>\n",
       "      <td>0.0</td>\n",
       "    </tr>\n",
       "    <tr>\n",
       "      <th>...</th>\n",
       "      <td>...</td>\n",
       "      <td>...</td>\n",
       "      <td>...</td>\n",
       "      <td>...</td>\n",
       "    </tr>\n",
       "    <tr>\n",
       "      <th>194</th>\n",
       "      <td>0.0</td>\n",
       "      <td>1.0</td>\n",
       "      <td>0.0</td>\n",
       "      <td>0.0</td>\n",
       "    </tr>\n",
       "    <tr>\n",
       "      <th>195</th>\n",
       "      <td>0.0</td>\n",
       "      <td>1.0</td>\n",
       "      <td>0.0</td>\n",
       "      <td>0.0</td>\n",
       "    </tr>\n",
       "    <tr>\n",
       "      <th>196</th>\n",
       "      <td>0.0</td>\n",
       "      <td>1.0</td>\n",
       "      <td>0.0</td>\n",
       "      <td>0.0</td>\n",
       "    </tr>\n",
       "    <tr>\n",
       "      <th>197</th>\n",
       "      <td>0.0</td>\n",
       "      <td>1.0</td>\n",
       "      <td>0.0</td>\n",
       "      <td>0.0</td>\n",
       "    </tr>\n",
       "    <tr>\n",
       "      <th>198</th>\n",
       "      <td>1.0</td>\n",
       "      <td>0.0</td>\n",
       "      <td>0.0</td>\n",
       "      <td>0.0</td>\n",
       "    </tr>\n",
       "  </tbody>\n",
       "</table>\n",
       "<p>199 rows × 4 columns</p>\n",
       "</div>"
      ],
      "text/plain": [
       "     Region_Asia  Region_Europe  Region_North America  Region_South America\n",
       "0            0.0            0.0                   0.0                   1.0\n",
       "1            1.0            0.0                   0.0                   0.0\n",
       "2            0.0            0.0                   0.0                   1.0\n",
       "3            0.0            0.0                   0.0                   1.0\n",
       "4            1.0            0.0                   0.0                   0.0\n",
       "..           ...            ...                   ...                   ...\n",
       "194          0.0            1.0                   0.0                   0.0\n",
       "195          0.0            1.0                   0.0                   0.0\n",
       "196          0.0            1.0                   0.0                   0.0\n",
       "197          0.0            1.0                   0.0                   0.0\n",
       "198          1.0            0.0                   0.0                   0.0\n",
       "\n",
       "[199 rows x 4 columns]"
      ]
     },
     "execution_count": 7,
     "metadata": {},
     "output_type": "execute_result"
    }
   ],
   "source": [
    "encoded_region_df"
   ]
  },
  {
   "cell_type": "markdown",
   "id": "a8079819",
   "metadata": {},
   "source": [
    "### Concatenate Encoded Data"
   ]
  },
  {
   "cell_type": "code",
   "execution_count": 8,
   "id": "699b5c78-45eb-4118-acdc-06b5ddf4a179",
   "metadata": {},
   "outputs": [],
   "source": [
    "data = pd.concat([data , encoded_region_df] , axis=1)\n",
    "data.drop(['CustomerID' , 'CustomerName' , 'Region' , 'SignupDate'] , axis=1 , inplace=True)"
   ]
  },
  {
   "cell_type": "markdown",
   "id": "f59e839a",
   "metadata": {},
   "source": [
    "### Scale the Numeical Data"
   ]
  },
  {
   "cell_type": "code",
   "execution_count": 9,
   "id": "1e657093-e694-4bad-a9ed-a449c3ca7259",
   "metadata": {},
   "outputs": [],
   "source": [
    "scaler = StandardScaler()\n",
    "scaled_data = scaler.fit_transform(data)"
   ]
  },
  {
   "cell_type": "markdown",
   "id": "d2493096",
   "metadata": {},
   "source": [
    "<h2 style=\"color:white;background:black;text-align:center;padding:1rem 0\">Clustering</h2>\n",
    "\n",
    "<h2>Determine Optimal Number of Clusters</h2>"
   ]
  },
  {
   "cell_type": "code",
   "execution_count": 20,
   "id": "e879feaf-8f3f-48dd-9004-3991e6e199b7",
   "metadata": {},
   "outputs": [],
   "source": [
    "cluster_range = range(2, 11)\n",
    "db_scores = []\n",
    "wcss = []\n",
    "\n",
    "for k in cluster_range:\n",
    "    kmeans = KMeans(n_clusters=k, random_state=42)\n",
    "    clusters = kmeans.fit_predict(scaled_data)\n",
    "    db_scores.append(davies_bouldin_score(scaled_data, clusters))\n",
    "    wcss.append(kmeans.inertia_)\n",
    "    \n",
    "optimal_clusters = cluster_range[np.argmin(db_scores)]"
   ]
  },
  {
   "cell_type": "markdown",
   "id": "19bf066a",
   "metadata": {},
   "source": [
    "### Perform K-Means Clustering"
   ]
  },
  {
   "cell_type": "code",
   "execution_count": 13,
   "id": "95773658-4dad-455c-ac79-1a4acbbb303e",
   "metadata": {},
   "outputs": [],
   "source": [
    "kmeans = KMeans(n_clusters=optimal_clusters ,random_state = 42)\n",
    "data['Cluster'] = kmeans.fit_predict(scaled_data)"
   ]
  },
  {
   "cell_type": "code",
   "execution_count": 21,
   "id": "ec231408-437c-4b01-8c54-0447281821ab",
   "metadata": {},
   "outputs": [
    {
     "data": {
      "text/plain": [
       "[1.6000249246331681,\n",
       " 1.8081085398807495,\n",
       " 1.2736001034340774,\n",
       " 1.0087180296821647,\n",
       " 1.0354473903212857,\n",
       " 1.1774426921640875,\n",
       " 1.102530994961898,\n",
       " 0.9457699587105142,\n",
       " 0.978811394319167]"
      ]
     },
     "execution_count": 21,
     "metadata": {},
     "output_type": "execute_result"
    }
   ],
   "source": [
    "db_scores # shape was not matching error occurred so i used to get the shape other wise step is not important "
   ]
  },
  {
   "cell_type": "markdown",
   "id": "b537656d",
   "metadata": {},
   "source": [
    "<h2 style=\"color:white;background:black;text-align:center;padding:1rem 0\">Visualization</h2>\n",
    "<br>\n",
    "<h2>Plot DB index and WCSS</h2>"
   ]
  },
  {
   "cell_type": "code",
   "execution_count": 15,
   "id": "4c33a886-ecef-4ddd-9485-6eefaf9ea922",
   "metadata": {},
   "outputs": [
    {
     "data": {
      "image/png": "[encoded data removed]",
      "text/plain": [
       "<Figure size 864x360 with 2 Axes>"
      ]
     },
     "metadata": {
      "needs_background": "light"
     },
     "output_type": "display_data"
    }
   ],
   "source": [
    "plt.figure(figsize=(12,5))\n",
    "plt.subplot(1,2,1)\n",
    "plt.plot(cluster_range , db_scores , marker='o')\n",
    "plt.title(\"DB Index vs Numebr of Clusters\")\n",
    "plt.xlabel(\"Number of Clusters\")\n",
    "plt.ylabel(\"DB Index\")\n",
    "\n",
    "plt.subplot(1, 2, 2)\n",
    "plt.plot(cluster_range, wcss, marker='o')\n",
    "plt.title('WCSS vs. Number of Clusters')\n",
    "plt.xlabel('Number of Clusters')\n",
    "plt.ylabel('WCSS')\n",
    "plt.tight_layout()\n",
    "plt.show()"
   ]
  },
  {
   "cell_type": "markdown",
   "id": "1280b70c",
   "metadata": {},
   "source": [
    "### PCA for Visualization"
   ]
  },
  {
   "cell_type": "code",
   "execution_count": 16,
   "id": "2d822a67-c28c-47ff-b960-09bf129c3b59",
   "metadata": {},
   "outputs": [],
   "source": [
    "pca = PCA(n_components=2)\n",
    "pca_data = pca.fit_transform(scaled_data)"
   ]
  },
  {
   "cell_type": "code",
   "execution_count": 17,
   "id": "d9a7fc12-1351-45be-b966-6b21bc0934c3",
   "metadata": {},
   "outputs": [
    {
     "data": {
      "image/png": "[encoded data removed]",
      "text/plain": [
       "<Figure size 576x432 with 1 Axes>"
      ]
     },
     "metadata": {
      "needs_background": "light"
     },
     "output_type": "display_data"
    }
   ],
   "source": [
    "plt.figure(figsize=(8,6))\n",
    "sns.scatterplot(x=pca_data[:,0] , y=pca_data[:,1] , hue=data['Cluster'] , palette='Set1')\n",
    "plt.title(\"Clusters Visualization PCA\")\n",
    "plt.xlabel('PCA Component 1')\n",
    "plt.ylabel(\"PCA Component 2\")\n",
    "plt.legend(title='Cluster')\n",
    "plt.show()"
   ]
  }
 ],
 "metadata": {
  "kernelspec": {
   "display_name": "Python 3",
   "language": "python",
   "name": "python3"
  },
  "language_info": {
   "codemirror_mode": {
    "name": "ipython",
    "version": 3
   },
   "file_extension": ".py",
   "mimetype": "text/x-python",
   "name": "python",
   "nbconvert_exporter": "python",
   "pygments_lexer": "ipython3",
   "version": "3.10.12"
  }
 },
 "nbformat": 4,
 "nbformat_minor": 5
}
